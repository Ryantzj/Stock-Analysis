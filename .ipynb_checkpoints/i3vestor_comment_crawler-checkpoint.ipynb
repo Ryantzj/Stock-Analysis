{
 "cells": [
  {
   "cell_type": "markdown",
   "metadata": {},
   "source": [
    "#i3vestors Comments Crawler for BAT"
   ]
  },
  {
   "cell_type": "markdown",
   "metadata": {},
   "source": [
    "<p>This will import beautiful soup for crawling, urllib2 to access to url, re for regex and csv to output result in csv"
   ]
  },
  {
   "cell_type": "markdown",
   "metadata": {},
   "source": [
    "<link>http://www.randalolson.com/2012/05/12/a-short-demo-on-how-to-use-ipython-notebook-as-a-research-notebook/</link>"
   ]
  },
  {
   "cell_type": "markdown",
   "metadata": {},
   "source": [
    "<iframe id=\"ytplayer\" type=\"text/html\" width=\"640\" height=\"390\"\n",
    "  src=\"http://www.youtube.com/embed/HaS4NXxL5Qc?autoplay=1\"\n",
    "  frameborder=\"0\"/>"
   ]
  },
  {
   "cell_type": "code",
   "execution_count": 1,
   "metadata": {
    "collapsed": false
   },
   "outputs": [],
   "source": [
    "from bs4 import BeautifulSoup\n",
    "import urllib2\n",
    "import re\n",
    "import csv\n",
    "import IPython.lib.display\n",
    "import datetime as DT\n",
    "link = \"http://klse.i3investor.com/servlets/forum/800000654.jsp?ftp=\"\n",
    "page = urllib2.urlopen(link)\n",
    "soup = BeautifulSoup(page.read(),\"lxml\")\n",
    "\n",
    "def usercom(link):\n",
    "    page = urllib2.urlopen(link)\n",
    "    soup = BeautifulSoup(page.read(),\"lxml\")\n",
    "    for br in soup.findAll('br'):\n",
    "        br.extract()\n",
    "    users = [user.string.encode('utf-8') for user in soup.find_all('span',**{'class':'comuid'})]\n",
    "    comments = [comment.text.encode('utf-8') for comment in soup.find_all('span',id=re.compile('comcontent\\d+'))]\n",
    "    timestamps = [timestamp.text.encode('utf-8') for timestamp in soup.find_all('span',**{'class':'comdt'})]\n",
    "    del users[0]\n",
    "    del users[0]\n",
    "    c_users = []\n",
    "    i = 0\n",
    "    while i < len(users):\n",
    "        if users[i] == users[i+1]:\n",
    "            del users[i+1]\n",
    "            c_users.append(users[i])\n",
    "        i+=1\n",
    "    date = [DT.datetime.strptime(timestamp, \"%b %d, %Y %I:%M %p\").strftime('%Y-%m-%d') for timestamp in timestamps]\n",
    "    data = [['date','user','comment']]+zip(date,c_users,comments)\n",
    "#    data = zip(date,c_users,comments)\n",
    "    with open('bat_comment.csv', 'a') as fp:\n",
    "        a = csv.writer(fp, delimiter=',')\n",
    "        a.writerows(data)\n",
    "        \n",
    "pageNumber = [num.b.string for num in soup.find_all('div',style='float:right;')]\n",
    "i = 1 \n",
    "pageNumber = int(pageNumber[0])+1\n",
    "for i in range(i,int(pageNumber)):\n",
    "        lnk=str(i)\n",
    "        url=link+lnk\n",
    "        usercom(url)"
   ]
  },
  {
   "cell_type": "markdown",
   "metadata": {},
   "source": [
    "Combining multiple CSV into 1 based on a common field "
   ]
  },
  {
   "cell_type": "raw",
   "metadata": {
    "collapsed": true
   },
   "source": [
    "import pandas as pd\n",
    "\n",
    "a = pd.read_csv(\"bat_hp.csv\")\n",
    "b = pd.read_csv(\"bat_count.csv\")\n",
    "#b = b.dropna(axis=1)\n",
    "merged = a.merge(b, on='Date')\n",
    "merged.to_csv(\"output.csv\", index=False)"
   ]
  },
  {
   "cell_type": "markdown",
   "metadata": {
    "collapsed": true
   },
   "source": [
    "Conversion of Time format and simple total daily comment count "
   ]
  },
  {
   "cell_type": "code",
   "execution_count": 90,
   "metadata": {
    "collapsed": false,
    "scrolled": true
   },
   "outputs": [
    {
     "name": "stdout",
     "output_type": "stream",
     "text": [
      "2015-06-17\n"
     ]
    }
   ],
   "source": [
    "import datetime as DT\n",
    "thetime = 'Jun 17, 2015 12:25 PM'\n",
    "finaltime = DT.datetime.strptime(thetime, \"%b %d, %Y %I:%M %p\").strftime('%Y-%m-%d')\n",
    "print(finaltime)"
   ]
  },
  {
   "cell_type": "code",
   "execution_count": 71,
   "metadata": {
    "collapsed": false,
    "scrolled": false
   },
   "outputs": [
    {
     "name": "stdout",
     "output_type": "stream",
     "text": [
      "Populating the interactive namespace from numpy and matplotlib\n"
     ]
    },
    {
     "data": {
      "image/png": "[encoded data removed]",
      "text/plain": [
       "<matplotlib.figure.Figure at 0x105fb02d0>"
      ]
     },
     "metadata": {},
     "output_type": "display_data"
    }
   ],
   "source": [
    "%matplotlib inline\n",
    "%pylab inline \n",
    "import matplotlib.pyplot as p\n",
    "import matplotlib.cbook as cbook\n",
    "\n",
    "fname = cbook.get_sample_data('bat_hp.csv', asfileobj=False)\n",
    "#p.plotfile(fname, (0,5,6))\n",
    "\n",
    "p.plotfile(fname, ('date', 'open','high','low','close'), subplots=False)\n",
    "\n",
    "p.show()"
   ]
  },
  {
   "cell_type": "code",
   "execution_count": 3,
   "metadata": {
    "collapsed": false,
    "scrolled": true
   },
   "outputs": [
    {
     "name": "stdout",
     "output_type": "stream",
     "text": [
      "Populating the interactive namespace from numpy and matplotlib\n"
     ]
    },
    {
     "data": {
      "image/png": "[encoded data removed]",
      "text/plain": [
       "<matplotlib.figure.Figure at 0x1136fe890>"
      ]
     },
     "metadata": {},
     "output_type": "display_data"
    }
   ],
   "source": [
    "%matplotlib inline\n",
    "%pylab inline \n",
    "import matplotlib.pyplot as p\n",
    "import matplotlib.cbook as cbook\n",
    "#not get sample data, refer to current directory \n",
    "fname = cbook.get_sample_data('output.csv', asfileobj=False)\n",
    "\n",
    "p.plotfile(fname, ('date','count','high'))\n",
    "\n",
    "p.show()"
   ]
  },
  {
   "cell_type": "markdown",
   "metadata": {},
   "source": [
    "Twin axes \n"
   ]
  },
  {
   "cell_type": "code",
   "execution_count": 27,
   "metadata": {
    "collapsed": false
   },
   "outputs": [
    {
     "name": "stdout",
     "output_type": "stream",
     "text": [
      "Populating the interactive namespace from numpy and matplotlib\n"
     ]
    },
    {
     "ename": "AttributeError",
     "evalue": "'AxesSubplot' object has no attribute 'plotfile'",
     "output_type": "error",
     "traceback": [
      "\u001b[0;31m---------------------------------------------------------------------------\u001b[0m",
      "\u001b[0;31mAttributeError\u001b[0m                            Traceback (most recent call last)",
      "\u001b[0;32m<ipython-input-27-d51067523867>\u001b[0m in \u001b[0;36m<module>\u001b[0;34m()\u001b[0m\n\u001b[1;32m      8\u001b[0m \u001b[0mfig\u001b[0m\u001b[0;34m,\u001b[0m \u001b[0max1\u001b[0m \u001b[0;34m=\u001b[0m \u001b[0mplt\u001b[0m\u001b[0;34m.\u001b[0m\u001b[0msubplots\u001b[0m\u001b[0;34m(\u001b[0m\u001b[0;34m)\u001b[0m\u001b[0;34m\u001b[0m\u001b[0m\n\u001b[1;32m      9\u001b[0m \u001b[0;34m\u001b[0m\u001b[0m\n\u001b[0;32m---> 10\u001b[0;31m \u001b[0max1\u001b[0m\u001b[0;34m.\u001b[0m\u001b[0mplotfile\u001b[0m\u001b[0;34m(\u001b[0m\u001b[0mfname\u001b[0m\u001b[0;34m,\u001b[0m \u001b[0;34m(\u001b[0m\u001b[0;34m'date'\u001b[0m\u001b[0;34m,\u001b[0m\u001b[0;34m'count'\u001b[0m\u001b[0;34m)\u001b[0m\u001b[0;34m)\u001b[0m\u001b[0;34m\u001b[0m\u001b[0m\n\u001b[0m\u001b[1;32m     11\u001b[0m \u001b[0max1\u001b[0m\u001b[0;34m.\u001b[0m\u001b[0mset_ylabel\u001b[0m\u001b[0;34m(\u001b[0m\u001b[0;34mr\"Comments\"\u001b[0m\u001b[0;34m,\u001b[0m\u001b[0mfontsize\u001b[0m\u001b[0;34m=\u001b[0m\u001b[0;36m18\u001b[0m\u001b[0;34m,\u001b[0m\u001b[0mcolor\u001b[0m\u001b[0;34m=\u001b[0m\u001b[0;34m\"blue\"\u001b[0m\u001b[0;34m)\u001b[0m\u001b[0;34m\u001b[0m\u001b[0m\n\u001b[1;32m     12\u001b[0m \u001b[0;32mfor\u001b[0m \u001b[0mlabel\u001b[0m \u001b[0;32min\u001b[0m \u001b[0max1\u001b[0m\u001b[0;34m.\u001b[0m\u001b[0mget_yticklabels\u001b[0m\u001b[0;34m(\u001b[0m\u001b[0;34m)\u001b[0m\u001b[0;34m:\u001b[0m\u001b[0;34m\u001b[0m\u001b[0m\n",
      "\u001b[0;31mAttributeError\u001b[0m: 'AxesSubplot' object has no attribute 'plotfile'"
     ]
    },
    {
     "data": {
      "image/png": "[encoded data removed]",
      "text/plain": [
       "<matplotlib.figure.Figure at 0x114aff410>"
      ]
     },
     "metadata": {},
     "output_type": "display_data"
    }
   ],
   "source": [
    "%matplotlib inline\n",
    "%pylab inline \n",
    "import matplotlib.pyplot as plt\n",
    "import matplotlib.cbook as cbook\n",
    "#not get sample data, refer to current directory \n",
    "fname = cbook.get_sample_data('output.csv', asfileobj=False)\n",
    "\n",
    "fig, ax1 = plt.subplots()  \n",
    "\n",
    "ax1.plotfile(fname, ('date','count'))\n",
    "ax1.set_ylabel(r\"Comments\",fontsize=18,color=\"blue\")\n",
    "for label in ax1.get_yticklabels():\n",
    "    label.set_color(\"blue\")\n",
    "    \n",
    "ax2 = ax1.twinx()\n",
    "ax2.plotfile(fname, ('date','high'))\n",
    "ax2.set_ylabel(r\"Highest price in the day\",fontsize=18,color=\"blue\")\n",
    "for label in ax2.get_yticklabels():\n",
    "    label.set_color(\"blue\")\n",
    "\n"
   ]
  },
  {
   "cell_type": "code",
   "execution_count": 103,
   "metadata": {
    "collapsed": false,
    "scrolled": true
   },
   "outputs": [
    {
     "data": {
      "image/png": "[encoded data removed]",
      "text/plain": [
       "<matplotlib.figure.Figure at 0x114bc3410>"
      ]
     },
     "metadata": {},
     "output_type": "display_data"
    }
   ],
   "source": [
    "import numpy as np\n",
    "import matplotlib.pyplot as plt\n",
    "from matplotlib import dates \n",
    "from datetime import datetime \n",
    "\n",
    "\n",
    "#not get sample data, refer to current directory \n",
    "\n",
    "data = np.genfromtxt('output.csv', delimiter=',', names=True, dtype=None)\n",
    "dates = data['Date']\n",
    "y1 = data['High']\n",
    "y2 = data['count']\n",
    "\n",
    "#dates_2  = datetime.datetime.strptime(dates, \"%Y/%m/%d\")\n",
    "#dts = map(datetime.datetime.fromtimestamp, date)\n",
    "#fds = dates.date2num(dts) \n",
    "\n",
    "\n",
    "date_objects = [datetime.strptime(date, '%Y\\%m\\%d') for date in dates]\n",
    "fds = matdates.date2num(date_objects)\n",
    "        \n",
    "\n",
    "\n",
    "    \n",
    "fig,ax1 = plt.subplots()\n",
    "\n",
    "\n",
    "ax1.plot_date(fds, y1, '-', lw=2, color = \"blue\",xdate=True)\n",
    "ax1.set_ylabel(r\"Daily High\", fontsize=18, color=\"blue\")\n",
    "for label in ax1.get_yticklabels():\n",
    "    label.set_color(\"blue\")\n",
    "    \n",
    "ax2 = ax1.twinx()\n",
    "ax2.plot_date(fds, y2, '-', lw=2,  color=\"red\",xdate=True)\n",
    "ax2.set_ylabel(r\"daily Comment\", fontsize=18, color=\"red\")\n",
    "for label in ax2.get_yticklabels():\n",
    "    label.set_color(\"red\")\n",
    "\n",
    "    \n",
    "ax1.fmt_xdata = DateFormatter('%Y\\%m\\%d')\n",
    "ax2.fmt_xdata = DateFormatter('%Y\\%m\\%d')\n",
    "fig.autofmt_xdate()\n"
   ]
  },
  {
   "cell_type": "markdown",
   "metadata": {},
   "source": [
    "# get multi axis working \n",
    "# need to convert datetime (ndarray) to matlibplot float format in order for plot_date to work. "
   ]
  },
  {
   "cell_type": "code",
   "execution_count": 50,
   "metadata": {
    "collapsed": false
   },
   "outputs": [
    {
     "name": "stdout",
     "output_type": "stream",
     "text": [
      "[datetime.datetime(2010, 12, 29, 14, 46, 2), datetime.datetime(2010, 12, 29, 14, 51, 17), datetime.datetime(2010, 12, 29, 14, 51, 18), datetime.datetime(2010, 12, 29, 14, 51, 18), datetime.datetime(2010, 12, 29, 15, 2, 42), datetime.datetime(2010, 12, 29, 15, 2, 42)]\n"
     ]
    }
   ],
   "source": [
    "import numpy as np\n",
    "from matplotlib import pyplot as plt\n",
    "from matplotlib import dates\n",
    "import datetime\n",
    "\n",
    "a = np.array([\n",
    "    [1293605162197, 0, 0],\n",
    "    [1293605477994, 63, 0],\n",
    "    [1293605478057, 0, 0],\n",
    "    [1293605478072, 2735, 1249],\n",
    "    [1293606162213, 0, 0],\n",
    "    [1293606162229, 0, 0]])\n",
    "\n",
    "d = a[:,0]\n",
    "y1 = a[:,1]\n",
    "y2 = a[:,2]\n",
    "\n",
    "# convert epoch to matplotlib float format\n",
    "s = d/1000\n",
    "ms = d-1000*s  # not needed?\n",
    "dts = map(datetime.datetime.fromtimestamp, s)\n",
    "fds = dates.date2num(dts) # converted\n",
    "\n",
    "# matplotlib date format object\n",
    "hfmt = dates.DateFormatter('%m/%d %H:%M')\n",
    "\n",
    "print(dts)"
   ]
  },
  {
   "cell_type": "code",
   "execution_count": 1,
   "metadata": {
    "collapsed": false
   },
   "outputs": [],
   "source": [
    "import pandas as pd\n",
    "from collections import Counter\n",
    "import csv \n",
    "\n",
    "df = pd.read_csv('bat_comment.csv')\n",
    "saved_column=df.date\n",
    "c = Counter(saved_column)\n",
    "#dict.items(c)\n",
    "key = c.keys()\n",
    "value = c.values()\n",
    "data = zip(key,value)\n",
    "with open('bat_count.csv', 'w') as fp:\n",
    "        a = csv.writer(fp, delimiter=',')\n",
    "        a.writerows(data)"
   ]
  },
  {
   "cell_type": "code",
   "execution_count": 1,
   "metadata": {
    "collapsed": false,
    "scrolled": false
   },
   "outputs": [
    {
     "name": "stdout",
     "output_type": "stream",
     "text": [
      "Populating the interactive namespace from numpy and matplotlib\n"
     ]
    },
    {
     "data": {
      "image/png": "[encoded data removed]",
      "text/plain": [
       "<matplotlib.figure.Figure at 0x110185390>"
      ]
     },
     "metadata": {},
     "output_type": "display_data"
    },
    {
     "data": {
      "text/plain": [
       "\"\\nax1.set_ylim(bottom = 0)\\np.xticks(rotation='vertical')\\np.subplots_adjust(bottom=.3)\\np.show()\\n\""
      ]
     },
     "execution_count": 1,
     "metadata": {},
     "output_type": "execute_result"
    }
   ],
   "source": [
    "\n",
    "%pylab inline \n",
    "import numpy as np\n",
    "import matplotlib.pyplot as p\n",
    "import matplotlib.cbook as cbook\n",
    "from matplotlib import dates\n",
    "#not get sample data, refer to current directory \n",
    "#fname = cbook.get_sample_data('output.csv', asfileobj=False)\n",
    "#with open(\"output.csv\") as f:\n",
    "#    data = f.read()\n",
    "data = np.genfromtxt('output.csv', delimiter=',', names=True, dtype=None)\n",
    "x = data['Date']\n",
    "y1 = data['High']\n",
    "y2 = data['count']\n",
    "\n",
    "hfmt = dates.DateFormatter('%Y-%m-%d')\n",
    "\n",
    "\n",
    "fig = p.figure()\n",
    "ax1 = fig.add_subplot(111)\n",
    "#ax2 = ax1.twinx()\n",
    "#ax1.vlines(x,y1,y2)\n",
    "ax1.xaxis.set_major_formatter(hfmt)\n",
    "ax1.xaxis.set_major_locator(dates.MinuteLocator())\n",
    "#ax1.plot(x,y1)\n",
    "\n",
    "p.show()\n",
    "\"\"\"\n",
    "ax1.set_ylim(bottom = 0)\n",
    "p.xticks(rotation='vertical')\n",
    "p.subplots_adjust(bottom=.3)\n",
    "p.show()\n",
    "\"\"\""
   ]
  },
  {
   "cell_type": "code",
   "execution_count": 6,
   "metadata": {
    "collapsed": false
   },
   "outputs": [
    {
     "name": "stdout",
     "output_type": "stream",
     "text": [
      "Please input stock code you wish to investigate: 0068\n"
     ]
    },
    {
     "data": {
      "text/plain": [
       "('0068.csv', <httplib.HTTPMessage instance at 0x111eb7cb0>)"
      ]
     },
     "execution_count": 6,
     "metadata": {},
     "output_type": "execute_result"
    }
   ],
   "source": [
    "import urllib\n",
    "symbol = raw_input(\"Please input stock code you wish to investigate: \")\n",
    "urllib.urlretrieve (\"http://real-chart.finance.yahoo.com/table.csv?s=\"+symbol+\".KL&d=7&e=18&f=2015&g=d&a=0&b=3&c=2000&ignore=.csv\",symbol+\".csv\")"
   ]
  },
  {
   "cell_type": "markdown",
   "metadata": {},
   "source": [
    "Trying to grab all historical record for all public comp"
   ]
  },
  {
   "cell_type": "code",
   "execution_count": 1,
   "metadata": {
    "collapsed": false
   },
   "outputs": [
    {
     "ename": "NameError",
     "evalue": "name 'timestamps' is not defined",
     "output_type": "error",
     "traceback": [
      "\u001b[0;31m---------------------------------------------------------------------------\u001b[0m",
      "\u001b[0;31mNameError\u001b[0m                                 Traceback (most recent call last)",
      "\u001b[0;32m<ipython-input-1-2dc9dcbf6695>\u001b[0m in \u001b[0;36m<module>\u001b[0;34m()\u001b[0m\n\u001b[1;32m     11\u001b[0m \u001b[0;34m\u001b[0m\u001b[0m\n\u001b[1;32m     12\u001b[0m \u001b[0msymbols_raw\u001b[0m \u001b[0;34m=\u001b[0m \u001b[0;34m[\u001b[0m\u001b[0msymbols_raw\u001b[0m\u001b[0;34m.\u001b[0m\u001b[0mtext\u001b[0m\u001b[0;34m.\u001b[0m\u001b[0mencode\u001b[0m\u001b[0;34m(\u001b[0m\u001b[0;34m'utf-8'\u001b[0m\u001b[0;34m)\u001b[0m \u001b[0;32mfor\u001b[0m \u001b[0msymbols_raw\u001b[0m \u001b[0;32min\u001b[0m \u001b[0msoup\u001b[0m\u001b[0;34m.\u001b[0m\u001b[0mfind_all\u001b[0m\u001b[0;34m(\u001b[0m\u001b[0;34m'div'\u001b[0m\u001b[0;34m,\u001b[0m\u001b[0;34m**\u001b[0m\u001b[0;34m{\u001b[0m\u001b[0;34m'class'\u001b[0m\u001b[0;34m:\u001b[0m\u001b[0;34m'stock-code'\u001b[0m\u001b[0;34m}\u001b[0m\u001b[0;34m)\u001b[0m\u001b[0;34m]\u001b[0m\u001b[0;34m\u001b[0m\u001b[0m\n\u001b[0;32m---> 13\u001b[0;31m \u001b[0msymbols\u001b[0m \u001b[0;34m=\u001b[0m \u001b[0;34m[\u001b[0m\u001b[0mre\u001b[0m\u001b[0;34m.\u001b[0m\u001b[0msearch\u001b[0m\u001b[0;34m(\u001b[0m\u001b[0;34m'(\\d{4}(\\w+)?)'\u001b[0m\u001b[0;34m,\u001b[0m\u001b[0msymbol\u001b[0m\u001b[0;34m)\u001b[0m\u001b[0;34m.\u001b[0m\u001b[0mgroup\u001b[0m\u001b[0;34m(\u001b[0m\u001b[0;36m1\u001b[0m\u001b[0;34m)\u001b[0m \u001b[0;32mfor\u001b[0m \u001b[0msymbol\u001b[0m \u001b[0;32min\u001b[0m \u001b[0mtimestamps\u001b[0m\u001b[0;34m]\u001b[0m\u001b[0;34m\u001b[0m\u001b[0m\n\u001b[0m\u001b[1;32m     14\u001b[0m \u001b[0;31m#symbols = [symbols_raw.text.encode('utf-8') for symbols_raw in soup.find_all('a')]\u001b[0m\u001b[0;34m\u001b[0m\u001b[0;34m\u001b[0m\u001b[0m\n\u001b[1;32m     15\u001b[0m \u001b[0;34m\u001b[0m\u001b[0m\n",
      "\u001b[0;31mNameError\u001b[0m: name 'timestamps' is not defined"
     ]
    }
   ],
   "source": [
    "from bs4 import BeautifulSoup\n",
    "import urllib\n",
    "import urllib2\n",
    "import re\n",
    "import csv\n",
    "import IPython.lib.display\n",
    "import datetime as DT\n",
    "req = urllib2.Request('http://www.klse.info/companies/listed-companies', headers={'User-Agent': 'Mozilla/5.0'})\n",
    "webpage =urllib2.urlopen(req)\n",
    "soup = BeautifulSoup(webpage.read(),\"lxml\")\n",
    "\n",
    "symbols_raw = [symbols_raw.text.encode('utf-8') for symbols_raw in soup.find_all('div',**{'class':'stock-code'})]\n",
    "symbols = [re.search('(\\d{4}(\\w+)?)',symbol).group(1) for symbol in timestamps]\n",
    "#symbols = [symbols_raw.text.encode('utf-8') for symbols_raw in soup.find_all('a')]\n",
    "\n",
    "\n",
    "#print (symbols)\n",
    "\n",
    "for symbol in symbols:\n",
    "    urllib.urlretrieve (\"http://real-chart.finance.yahoo.com/table.csv?s=\"+symbol+\".KL&d=7&e=18&f=2015&g=d&a=0&b=3&c=2000&ignore=.csv\",\"ye\"+symbol+\".csv\")\n",
    "\n"
   ]
  },
  {
   "cell_type": "markdown",
   "metadata": {},
   "source": [
    "Gather all url for comments \n",
    "first grab all stock quote: name & url \n",
    "compile in a csv \n"
   ]
  },
  {
   "cell_type": "code",
   "execution_count": 10,
   "metadata": {
    "collapsed": false,
    "scrolled": true
   },
   "outputs": [
    {
     "ename": "IOError",
     "evalue": "[Errno 2] No such file or directory: 'comment_urls.csv'",
     "output_type": "error",
     "traceback": [
      "\u001b[0;31m---------------------------------------------------------------------------\u001b[0m",
      "\u001b[0;31mIOError\u001b[0m                                   Traceback (most recent call last)",
      "\u001b[0;32m<ipython-input-10-3812d1e17eab>\u001b[0m in \u001b[0;36m<module>\u001b[0;34m()\u001b[0m\n\u001b[1;32m     62\u001b[0m             \u001b[0ma\u001b[0m\u001b[0;34m.\u001b[0m\u001b[0mwriterows\u001b[0m\u001b[0;34m(\u001b[0m\u001b[0;34m[\u001b[0m\u001b[0mquote\u001b[0m\u001b[0;34m]\u001b[0m\u001b[0;34m)\u001b[0m\u001b[0;34m\u001b[0m\u001b[0m\n\u001b[1;32m     63\u001b[0m \u001b[0;34m\u001b[0m\u001b[0m\n\u001b[0;32m---> 64\u001b[0;31m \u001b[0msymbol_url_retrieval\u001b[0m\u001b[0;34m(\u001b[0m\u001b[0;34m\"comment_urls.csv\"\u001b[0m\u001b[0;34m)\u001b[0m\u001b[0;34m\u001b[0m\u001b[0m\n\u001b[0m\u001b[1;32m     65\u001b[0m \u001b[0;34m\u001b[0m\u001b[0m\n\u001b[1;32m     66\u001b[0m \u001b[0;31m#symbol_retrieval(\"symbol_link.csv\")\u001b[0m\u001b[0;34m\u001b[0m\u001b[0;34m\u001b[0m\u001b[0m\n",
      "\u001b[0;32m<ipython-input-10-3812d1e17eab>\u001b[0m in \u001b[0;36msymbol_url_retrieval\u001b[0;34m(fname)\u001b[0m\n\u001b[1;32m     40\u001b[0m \u001b[0;34m\u001b[0m\u001b[0m\n\u001b[1;32m     41\u001b[0m \u001b[0;32mdef\u001b[0m \u001b[0msymbol_url_retrieval\u001b[0m\u001b[0;34m(\u001b[0m\u001b[0mfname\u001b[0m\u001b[0;34m)\u001b[0m\u001b[0;34m:\u001b[0m\u001b[0;34m\u001b[0m\u001b[0m\n\u001b[0;32m---> 42\u001b[0;31m     \u001b[0;32mwith\u001b[0m \u001b[0mopen\u001b[0m\u001b[0;34m(\u001b[0m\u001b[0mfname\u001b[0m\u001b[0;34m)\u001b[0m \u001b[0;32mas\u001b[0m \u001b[0mf\u001b[0m\u001b[0;34m:\u001b[0m\u001b[0;34m\u001b[0m\u001b[0m\n\u001b[0m\u001b[1;32m     43\u001b[0m         \u001b[0mcontent\u001b[0m \u001b[0;34m=\u001b[0m \u001b[0mf\u001b[0m\u001b[0;34m.\u001b[0m\u001b[0mreadlines\u001b[0m\u001b[0;34m(\u001b[0m\u001b[0;34m)\u001b[0m\u001b[0;34m\u001b[0m\u001b[0m\n\u001b[1;32m     44\u001b[0m     \u001b[0;32mfor\u001b[0m \u001b[0murl\u001b[0m \u001b[0;32min\u001b[0m \u001b[0mcontent\u001b[0m\u001b[0;34m:\u001b[0m\u001b[0;34m\u001b[0m\u001b[0m\n",
      "\u001b[0;31mIOError\u001b[0m: [Errno 2] No such file or directory: 'comment_urls.csv'"
     ]
    }
   ],
   "source": [
    "from bs4 import BeautifulSoup\n",
    "import urllib\n",
    "import urllib2\n",
    "import re\n",
    "import csv\n",
    "import IPython.lib.display\n",
    "import datetime as DT\n",
    "#link = \"http://klse.i3investor.com/jsp/scl/forum.jsp?fp=1&c=1\" \n",
    "i = 1\n",
    "link = \"http://klse.i3investor.com/jsp/scl/forum.jsp?fp=\"+str(i)+\"&c=1\" \n",
    "page = urllib2.urlopen(link)\n",
    "soup = BeautifulSoup(page.read(),\"lxml\")\n",
    "\n",
    "comment_urls = []\n",
    "symbols = []\n",
    "\n",
    "def comments_url_retrieval(x):\n",
    "    i = 1\n",
    "    link = \"http://klse.i3investor.com/jsp/scl/forum.jsp?fp=\"+str(i)+\"&c=1\" \n",
    "    page = urllib2.urlopen(link)\n",
    "    soup = BeautifulSoup(page.read(),\"lxml\")\n",
    "    while(soup.body.findAll(**{'class':'forumtopic'})):\n",
    "            i+=1\n",
    "            link = \"http://klse.i3investor.com/jsp/scl/forum.jsp?fp=\"+str(i)+\"&c=1\" \n",
    "            page = urllib2.urlopen(link)\n",
    "            soup = BeautifulSoup(page.read(),\"lxml\")\n",
    "            comment_urls.extend(re.sub('fp=\\d+','',url['href'].encode('utf-8')) for url in soup.find_all('a',href=re.compile('/servlets/forum/\\d+\\.jsp'))) \n",
    "    print(\"fetch complete, writing now ...\")\n",
    "    with open('comment_urls.csv', 'w') as fp:\n",
    "        a = csv.writer(fp,delimiter='\\n')\n",
    "        a.writerows([comment_urls])\n",
    "    print(\"write complete\") \n",
    "    \n",
    "x=1\n",
    "    \n",
    "def stock_quote_retrieval(link):\n",
    "    page = urllib2.urlopen(link)\n",
    "    soup = BeautifulSoup(page.read(),\"lxml\")\n",
    "    symbols.append(soup.find('a', href=re.compile('/servlets/stk/.*\\.jsp'))['href'])\n",
    "\n",
    "def symbol_url_retrieval(fname):\n",
    "    with open(fname) as f:\n",
    "        content = f.readlines()\n",
    "    for url in content:\n",
    "        url.replace('\\n','')\n",
    "        link = \"http://klse.i3investor.com\"+url\n",
    "        stock_quote_retrieval(link)\n",
    "        with open('symbol_link2.csv', 'w') as fp:\n",
    "            a = csv.writer(fp,delimiter='\\n')\n",
    "            a.writerows([symbols])\n",
    "     \n",
    "    \n",
    "quote = []    \n",
    "    \n",
    "def symbol_retrieval(fname):\n",
    "    with open(fname) as f:\n",
    "        content = f.readlines()\n",
    "    for symbol in content:\n",
    "        quote.append(re.search('(\\d{4}(\\w+)?)',symbol).group(1))\n",
    "    with open('symbol_list.csv','w') as fp:\n",
    "            a = csv.writer(fp,delimiter='\\n')\n",
    "            a.writerows([quote])\n",
    "        \n",
    "#symbol_url_retrieval(\"comment_urls.csv\")\n",
    "   \n",
    "#symbol_retrieval(\"symbol_link.csv\")    \n",
    "\n",
    "# test 1\n",
    "\n",
    "def stocks_price_retrieval(fname):\n",
    "    for symbol in symbols:\n",
    "        urllib.urlretrieve (\"http://real-chart.finance.yahoo.com/table.csv?s=\"+symbol+\".KL&d=7&e=18&f=2015&g=d&a=0&b=3&c=2000&ignore=.csv\",\"\\stock_price_list\"+symbol+\".csv\")\n",
    "\n",
    "\n",
    "with open('symbol_list.csv') as f:\n",
    "    content = f.readlines()\n",
    "\n",
    "\n",
    "        \n",
    "        \n",
    "        \n",
    "urllib.urlretrieve (\"http://real-chart.finance.yahoo.com/table.csv?s=\"+content[0]+\".KL&d=7&e=18&f=2015&g=d&a=0&b=3&c=2000&ignore=.csv\",\" stock_price_list\"+content[0]+\".csv\")\n",
    "\n",
    "\n",
    "#stocks_price_retrieval('symbol_link.csv')\n",
    "        \n",
    "#not get sample data, refer to current directory \n",
    "#fname = cbook.get_sample_data('output.csv', asfileobj=False)\n",
    "\n",
    "#will plot single file but need to plot all file \n",
    "#p.plotfile(fname, ('date','count','high'))\n",
    "\n",
    "#p.show()\n",
    "\n",
    "\n",
    "\n",
    "#generated the symbol link csv \n",
    "#pass it to yahoo finance \n",
    "#plot out all graph \n"
   ]
  },
  {
   "cell_type": "markdown",
   "metadata": {
    "collapsed": true
   },
   "source": [
    "#To run the back test as a platform \n"
   ]
  },
  {
   "cell_type": "code",
   "execution_count": null,
   "metadata": {
    "collapsed": true
   },
   "outputs": [],
   "source": []
  }
 ],
 "metadata": {
  "kernelspec": {
   "display_name": "Python 2",
   "language": "python",
   "name": "python2"
  },
  "language_info": {
   "codemirror_mode": {
    "name": "ipython",
    "version": 2
   },
   "file_extension": ".py",
   "mimetype": "text/x-python",
   "name": "python",
   "nbconvert_exporter": "python",
   "pygments_lexer": "ipython2",
   "version": "2.7.10"
  }
 },
 "nbformat": 4,
 "nbformat_minor": 0
}
