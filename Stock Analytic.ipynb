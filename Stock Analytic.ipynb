{
 "cells": [
  {
   "cell_type": "markdown",
   "metadata": {},
   "source": [
    "# Stock Analytic Platform \n",
    "## Description : Allow user to backtest their algorithm on the bursa stock model  "
   ]
  },
  {
   "cell_type": "markdown",
   "metadata": {},
   "source": [
    "##Objective : To learn how algo trading works via building back testing"
   ]
  },
  {
   "cell_type": "markdown",
   "metadata": {},
   "source": [
    "##Program Flow : \n",
    "###1.Retrieve all historical price for every stock on bursa and have it update on a daily basis\n",
    "###2.Retrieve all comments for each stock \n",
    "###3.Plot out all Stock history price on matlibplot \n",
    "###4.create the algorithm to testify the correlation between comment count versus historical price [high | low | volume]\n",
    "###5.Create a web platform from it, and will allow user to customize the logic they are intend to use.\n",
    "###6.SHIP IT.\n"
   ]
  },
  {
   "cell_type": "code",
   "execution_count": null,
   "metadata": {
    "collapsed": false
   },
   "outputs": [],
   "source": [
    "##To download all historical stock price\n",
    "\n",
    "from bs4 import BeautifulSoup\n",
    "import urllib\n",
    "import urllib2\n",
    "import re\n",
    "import csv\n",
    "import IPython.lib.display\n",
    "import datetime as DT\n",
    "import os.path\n",
    "\n",
    "\n",
    "symbols=[]\n",
    "quotes=[]\n",
    "\n",
    "\n",
    "def comments_url_get(x):\n",
    "        \n",
    "    link = \"http://klse.i3investor.com/jsp/scl/forum.jsp?fp=1&c=1\" \n",
    "    page = urllib2.urlopen(link)\n",
    "    soup = BeautifulSoup(page.read(),\"lxml\")\n",
    "    comment_urls=[]\n",
    "    i=0\n",
    "    \n",
    "    while(soup.body.findAll(**{'class':'forumtopic'})):\n",
    "         i+=1\n",
    "         link = \"http://klse.i3investor.com/jsp/scl/forum.jsp?fp=\"+str(i)+\"&c=1\" \n",
    "         page = urllib2.urlopen(link)\n",
    "         soup = BeautifulSoup(page.read(),\"lxml\")\n",
    "         comment_urls.extend(re.sub('fp=\\d+','',url['href'].encode('utf-8')) for url in soup.find_all('a',href=re.compile('/servlets/forum/\\d+\\.jsp'))) \n",
    "    print(\"fetch complete, writing now ...\")\n",
    "    with open ('comment_urls.csv','w') as fp:\n",
    "        writer = csv.writer(fp,delimiter='\\n')\n",
    "        writer.writerows([comment_urls])\n",
    "    print(\"write completed\")\n",
    "        \n",
    "    \n",
    "def stock_quote_get(fname):\n",
    "    with open(fname) as f:\n",
    "        content = f.readlines()\n",
    "    for url in content:\n",
    "        url.replace('\\n','')\n",
    "        link = \"http://klse.i3investor.com\"+url\n",
    "        stock_quote_retrieval(link)\n",
    "        with open('symbol_link.csv', 'w') as fp:\n",
    "            a = csv.writer(fp,delimiter='\\n')\n",
    "            a.writerows([symbols])\n",
    "    \n",
    "def stock_quote_retrieval(link):\n",
    "    page = urllib2.urlopen(link)\n",
    "    soup = BeautifulSoup(page.read(),\"lxml\")\n",
    "    symbols.append(soup.find('a', href=re.compile('/servlets/stk/.*\\.jsp'))['href'])\n",
    "\n",
    "#stock_quote_get(\"comment_urls.csv\")\n",
    "\n",
    "def symbol_retrieval(fname):\n",
    "    with open(fname) as f:\n",
    "        content = f.readlines()\n",
    "    for symbol in content:\n",
    "        quotes.append(re.search('(\\d{4}(\\w+)?)',symbol).group(1))\n",
    "    with open('symbol_list.csv','w') as fp:\n",
    "            writer = csv.writer(fp,delimiter='\\n')\n",
    "            writer.writerows([quotes])\n",
    "            \n",
    "#symbol_retrieval(\"symbol_link.csv\")            \n",
    "\n",
    "\n",
    "\n",
    "def stock_price_get(fname):\n",
    "    \n",
    "    save_path=\"/Users/ryan/DevOps/python/project_2_stock_analytic/symbols/\"    \n",
    "    \n",
    "    with open('symbol_list.csv') as f:\n",
    "        content = f.read().splitlines()\n",
    "    for symbol in content: \n",
    "        urllib.urlretrieve(\"http://real-chart.finance.yahoo.com/table.csv?s=\"+symbol+\".KL&d=7&e=18&f=2015&g=d&a=0&b=3&c=2000&ignore=.csv\",os.path.join(save_path,symbol+\".csv\"))\n",
    "             \n",
    "             \n",
    "                                   \n",
    "                           \n",
    "stock_price_get(\"symbol_list.csv\")\n"
   ]
  },
  {
   "cell_type": "code",
   "execution_count": null,
   "metadata": {
    "collapsed": true
   },
   "outputs": [],
   "source": [
    "%matplotlib inline\n",
    "%pylab inline \n",
    "import matplotlib.pyplot as p\n",
    "import matplotlib.cbook as cbook\n",
    "\n",
    "fname = cbook.get_sample_data('bat_hp.csv', asfileobj=False)\n",
    "#p.plotfile(fname, (0,5,6))\n",
    "\n",
    "p.plotfile(fname, ('date', 'open','high','low','close'), subplots=False)\n",
    "\n",
    "p.show()"
   ]
  }
 ],
 "metadata": {
  "kernelspec": {
   "display_name": "Python 2",
   "language": "python",
   "name": "python2"
  },
  "language_info": {
   "codemirror_mode": {
    "name": "ipython",
    "version": 2
   },
   "file_extension": ".py",
   "mimetype": "text/x-python",
   "name": "python",
   "nbconvert_exporter": "python",
   "pygments_lexer": "ipython2",
   "version": "2.7.10"
  }
 },
 "nbformat": 4,
 "nbformat_minor": 0
}
